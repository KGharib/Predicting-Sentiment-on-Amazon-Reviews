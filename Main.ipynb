{
 "cells": [
  {
   "cell_type": "markdown",
   "metadata": {},
   "source": [
    "# Final Project, Sentiment Analysis Amazon Dataset\n",
    "## Predict Sentiment from Textual Data in order to improve and develop PR for companies \n",
    "### Business Plan:\n",
    "* We are an organisation that helps and gives Business effective advice on improving their PR.\n",
    "* I work as part of a team within the organisation that deals with textual data that has been scraped off of social media and we analyse and seek to gain insight from the text about the company or their products/services and based on our analysis give advice and areas of improvement for the company"
   ]
  },
  {
   "cell_type": "code",
   "execution_count": 49,
   "metadata": {},
   "outputs": [],
   "source": [
    "#custom library with functions i made\n",
    "import Functions as func\n",
    "\n",
    "#basic pandas and visualisation loibraries\n",
    "import pandas as pd\n",
    "import matplotlib.pyplot as plt\n",
    "%matplotlib inline\n",
    "import seaborn as sns\n",
    "pd.set_option('display.width', 1000)\n",
    "import numpy as np\n",
    "import re\n",
    "\n",
    "#text preprocessing and cleaning libraries\n",
    "from string import punctuation\n",
    "from collections import Counter\n",
    "from nltk.stem import WordNetLemmatizer \n",
    "from nltk.corpus import stopwords\n",
    "\n",
    "# sklearn libraries\n",
    "from sklearn.model_selection import train_test_split\n",
    "from sklearn.metrics import accuracy_score, auc, roc_curve, f1_score, precision_score, recall_score \n",
    "from sklearn.preprocessing import OneHotEncoder, LabelEncoder\n",
    "\n",
    "#Pytorch\n",
    "import torch\n",
    "\n",
    "#keras libraries\n",
    "from keras.layers import Dense, Embedding\n",
    "from keras import Sequential\n",
    "from keras.layers import LSTM\n",
    "from keras import layers\n",
    "from keras import models\n",
    "from keras import metrics\n",
    "from keras.utils.np_utils import to_categorical\n",
    "from keras import losses\n",
    "from keras import optimizers\n",
    "from keras.utils.np_utils import to_categorical\n",
    "from keras.preprocessing.text import Tokenizer\n",
    "from keras.preprocessing.text import text_to_word_sequence\n",
    "from keras.preprocessing.sequence import pad_sequences\n",
    "from keras import backend as K\n",
    "\n",
    "# NLP\n",
    "from nltk.tokenize import casual_tokenize\n",
    "from nltk.stem.porter import PorterStemmer"
   ]
  },
  {
   "cell_type": "code",
   "execution_count": 50,
   "metadata": {},
   "outputs": [],
   "source": [
    "df = pd.read_csv('train.csv', nrows=400000, header=None)"
   ]
  },
  {
   "cell_type": "code",
   "execution_count": 51,
   "metadata": {},
   "outputs": [
    {
     "data": {
      "text/html": [
       "<div>\n",
       "<style scoped>\n",
       "    .dataframe tbody tr th:only-of-type {\n",
       "        vertical-align: middle;\n",
       "    }\n",
       "\n",
       "    .dataframe tbody tr th {\n",
       "        vertical-align: top;\n",
       "    }\n",
       "\n",
       "    .dataframe thead th {\n",
       "        text-align: right;\n",
       "    }\n",
       "</style>\n",
       "<table border=\"1\" class=\"dataframe\">\n",
       "  <thead>\n",
       "    <tr style=\"text-align: right;\">\n",
       "      <th></th>\n",
       "      <th>0</th>\n",
       "      <th>1</th>\n",
       "      <th>2</th>\n",
       "    </tr>\n",
       "  </thead>\n",
       "  <tbody>\n",
       "    <tr>\n",
       "      <th>0</th>\n",
       "      <td>3</td>\n",
       "      <td>more like funchuck</td>\n",
       "      <td>Gave this to my dad for a gag gift after direc...</td>\n",
       "    </tr>\n",
       "    <tr>\n",
       "      <th>1</th>\n",
       "      <td>5</td>\n",
       "      <td>Inspiring</td>\n",
       "      <td>I hope a lot of people hear this cd. We need m...</td>\n",
       "    </tr>\n",
       "    <tr>\n",
       "      <th>2</th>\n",
       "      <td>5</td>\n",
       "      <td>The best soundtrack ever to anything.</td>\n",
       "      <td>I'm reading a lot of reviews saying that this ...</td>\n",
       "    </tr>\n",
       "    <tr>\n",
       "      <th>3</th>\n",
       "      <td>4</td>\n",
       "      <td>Chrono Cross OST</td>\n",
       "      <td>The music of Yasunori Misuda is without questi...</td>\n",
       "    </tr>\n",
       "    <tr>\n",
       "      <th>4</th>\n",
       "      <td>5</td>\n",
       "      <td>Too good to be true</td>\n",
       "      <td>Probably the greatest soundtrack in history! U...</td>\n",
       "    </tr>\n",
       "  </tbody>\n",
       "</table>\n",
       "</div>"
      ],
      "text/plain": [
       "   0                                      1                                                  2\n",
       "0  3                     more like funchuck  Gave this to my dad for a gag gift after direc...\n",
       "1  5                              Inspiring  I hope a lot of people hear this cd. We need m...\n",
       "2  5  The best soundtrack ever to anything.  I'm reading a lot of reviews saying that this ...\n",
       "3  4                       Chrono Cross OST  The music of Yasunori Misuda is without questi...\n",
       "4  5                    Too good to be true  Probably the greatest soundtrack in history! U..."
      ]
     },
     "execution_count": 51,
     "metadata": {},
     "output_type": "execute_result"
    }
   ],
   "source": [
    "df.head()"
   ]
  },
  {
   "cell_type": "code",
   "execution_count": 53,
   "metadata": {},
   "outputs": [],
   "source": [
    "df.rename({0: 'star', 1:'rating1', 2:'rating2'}, axis=1, inplace=True)\n",
    "df['review'] = df['rating1'] + ' ' + df['rating2']\n",
    "df.drop(columns=['rating1', 'rating2'],inplace=True)\n",
    "\n",
    "\n",
    "# Dropping neutral(3 star rating) reviews\n",
    "df = df.set_index('star')\n",
    "df = df.drop([3])\n",
    "df = df.reset_index()\n",
    "# making reviews 4 and above as 1(positive) and the rest as 0(negative)\n",
    "df['star'] = df['star'].apply(lambda x: 1 if x >=4 else 0)\n",
    "df['review'] = df['review'].apply(func.cleanup)"
   ]
  },
  {
   "cell_type": "code",
   "execution_count": 54,
   "metadata": {},
   "outputs": [
    {
     "data": {
      "text/html": [
       "<div>\n",
       "<style scoped>\n",
       "    .dataframe tbody tr th:only-of-type {\n",
       "        vertical-align: middle;\n",
       "    }\n",
       "\n",
       "    .dataframe tbody tr th {\n",
       "        vertical-align: top;\n",
       "    }\n",
       "\n",
       "    .dataframe thead th {\n",
       "        text-align: right;\n",
       "    }\n",
       "</style>\n",
       "<table border=\"1\" class=\"dataframe\">\n",
       "  <thead>\n",
       "    <tr style=\"text-align: right;\">\n",
       "      <th></th>\n",
       "      <th>star</th>\n",
       "    </tr>\n",
       "  </thead>\n",
       "  <tbody>\n",
       "    <tr>\n",
       "      <th>count</th>\n",
       "      <td>319191.000000</td>\n",
       "    </tr>\n",
       "    <tr>\n",
       "      <th>mean</th>\n",
       "      <td>0.504463</td>\n",
       "    </tr>\n",
       "    <tr>\n",
       "      <th>std</th>\n",
       "      <td>0.499981</td>\n",
       "    </tr>\n",
       "    <tr>\n",
       "      <th>min</th>\n",
       "      <td>0.000000</td>\n",
       "    </tr>\n",
       "    <tr>\n",
       "      <th>25%</th>\n",
       "      <td>0.000000</td>\n",
       "    </tr>\n",
       "    <tr>\n",
       "      <th>50%</th>\n",
       "      <td>1.000000</td>\n",
       "    </tr>\n",
       "    <tr>\n",
       "      <th>75%</th>\n",
       "      <td>1.000000</td>\n",
       "    </tr>\n",
       "    <tr>\n",
       "      <th>max</th>\n",
       "      <td>1.000000</td>\n",
       "    </tr>\n",
       "  </tbody>\n",
       "</table>\n",
       "</div>"
      ],
      "text/plain": [
       "                star\n",
       "count  319191.000000\n",
       "mean        0.504463\n",
       "std         0.499981\n",
       "min         0.000000\n",
       "25%         0.000000\n",
       "50%         1.000000\n",
       "75%         1.000000\n",
       "max         1.000000"
      ]
     },
     "execution_count": 54,
     "metadata": {},
     "output_type": "execute_result"
    }
   ],
   "source": [
    "df.describe()"
   ]
  },
  {
   "cell_type": "code",
   "execution_count": 55,
   "metadata": {
    "scrolled": false
   },
   "outputs": [
    {
     "name": "stdout",
     "output_type": "stream",
     "text": [
      "0    49.553715\n",
      "1    50.446285\n",
      "Name: star, dtype: float64\n"
     ]
    },
    {
     "data": {
      "image/png": "[encoded data removed]",
      "text/plain": [
       "<Figure size 720x288 with 1 Axes>"
      ]
     },
     "metadata": {
      "needs_background": "light"
     },
     "output_type": "display_data"
    }
   ],
   "source": [
    "# distribution of review, evenly spread between positve and negative\n",
    "df['star'].value_counts().plot(kind='barh',figsize=(10,4), color='orange')\n",
    "print(df['star'].value_counts(normalize=True, ascending=True) * 100)"
   ]
  },
  {
   "cell_type": "code",
   "execution_count": 58,
   "metadata": {},
   "outputs": [],
   "source": [
    "# Cleaned df\n",
    "# df.to_csv('cleaned.csv')"
   ]
  },
  {
   "cell_type": "markdown",
   "metadata": {},
   "source": [
    "#### Will only use a subset of 300k "
   ]
  },
  {
   "cell_type": "code",
   "execution_count": 9,
   "metadata": {
    "scrolled": true
   },
   "outputs": [
    {
     "data": {
      "text/plain": [
       "0         [inspiring, i, hope, a, lot, of, people, hear,...\n",
       "1         [the, best, soundtrack, ever, to, anything, im...\n",
       "2         [chrono, cross, ost, the, music, of, yasunori,...\n",
       "3         [too, good, to, be, true, probably, the, great...\n",
       "4         [theres, a, reason, for, the, price, theres, a...\n",
       "                                ...                        \n",
       "299995    [great, last, minute, review, if, you, need, a...\n",
       "299996    [contracts, my, emanuel, came, right, in, time...\n",
       "299997    [crunch, time, , contracts, this, was, such, a...\n",
       "299998    [just, okay, there, is, too, much, in, this, b...\n",
       "299999    [law, school, purchased, this, for, my, daught...\n",
       "Name: review, Length: 300000, dtype: object"
      ]
     },
     "execution_count": 9,
     "metadata": {},
     "output_type": "execute_result"
    }
   ],
   "source": [
    "reviews = df['review'].apply(lambda x: x.lower())\n",
    "#removing punctuation and splitting\n",
    "reviews = reviews.apply(lambda x: re.sub(r'[^\\w\\s]', '',x))\n",
    "reviews = reviews.apply(lambda x: x.split(' '))\n",
    "reviews = reviews[:300000]\n",
    "reviews"
   ]
  },
  {
   "cell_type": "code",
   "execution_count": 10,
   "metadata": {},
   "outputs": [
    {
     "data": {
      "text/plain": [
       "0         inspiring i hope a lot of people hear this cd ...\n",
       "1         the best soundtrack ever to anything im readin...\n",
       "2         chrono cross ost the music of yasunori misuda ...\n",
       "3         too good to be true probably the greatest soun...\n",
       "4         theres a reason for the price theres a reason ...\n",
       "                                ...                        \n",
       "299995    great last minute review if you need a quick l...\n",
       "299996    contracts my emanuel came right in time to hel...\n",
       "299997    crunch time  contracts this was such a helpful...\n",
       "299998    just okay there is too much in this book to he...\n",
       "299999    law school purchased this for my daughter for ...\n",
       "Name: review, Length: 300000, dtype: object"
      ]
     },
     "execution_count": 10,
     "metadata": {},
     "output_type": "execute_result"
    }
   ],
   "source": [
    "reviews2 = df['star'].apply(lambda x: str(x))\n",
    "reviews2 = df['review'].apply(lambda x: re.sub(r'[^\\w\\s]', '',x))\n",
    "reviews2 = reviews2[:300000]\n",
    "#will be used for EDA\n",
    "reviews2"
   ]
  },
  {
   "cell_type": "code",
   "execution_count": 11,
   "metadata": {
    "scrolled": true
   },
   "outputs": [
    {
     "data": {
      "text/plain": [
       "0         1\n",
       "1         1\n",
       "2         1\n",
       "3         1\n",
       "4         1\n",
       "         ..\n",
       "299995    1\n",
       "299996    1\n",
       "299997    1\n",
       "299998    0\n",
       "299999    1\n",
       "Name: star, Length: 300000, dtype: int64"
      ]
     },
     "execution_count": 11,
     "metadata": {},
     "output_type": "execute_result"
    }
   ],
   "source": [
    "labels = df['star']\n",
    "labels = labels[:300000]\n",
    "labels"
   ]
  },
  {
   "cell_type": "code",
   "execution_count": 4,
   "metadata": {},
   "outputs": [
    {
     "data": {
      "text/html": [
       "<div>\n",
       "<style scoped>\n",
       "    .dataframe tbody tr th:only-of-type {\n",
       "        vertical-align: middle;\n",
       "    }\n",
       "\n",
       "    .dataframe tbody tr th {\n",
       "        vertical-align: top;\n",
       "    }\n",
       "\n",
       "    .dataframe thead th {\n",
       "        text-align: right;\n",
       "    }\n",
       "</style>\n",
       "<table border=\"1\" class=\"dataframe\">\n",
       "  <thead>\n",
       "    <tr style=\"text-align: right;\">\n",
       "      <th></th>\n",
       "      <th>0</th>\n",
       "      <th>1</th>\n",
       "      <th>2</th>\n",
       "    </tr>\n",
       "  </thead>\n",
       "  <tbody>\n",
       "    <tr>\n",
       "      <th>0</th>\n",
       "      <td>3</td>\n",
       "      <td>more like funchuck</td>\n",
       "      <td>Gave this to my dad for a gag gift after direc...</td>\n",
       "    </tr>\n",
       "    <tr>\n",
       "      <th>1</th>\n",
       "      <td>5</td>\n",
       "      <td>Inspiring</td>\n",
       "      <td>I hope a lot of people hear this cd. We need m...</td>\n",
       "    </tr>\n",
       "    <tr>\n",
       "      <th>2</th>\n",
       "      <td>5</td>\n",
       "      <td>The best soundtrack ever to anything.</td>\n",
       "      <td>I'm reading a lot of reviews saying that this ...</td>\n",
       "    </tr>\n",
       "    <tr>\n",
       "      <th>3</th>\n",
       "      <td>4</td>\n",
       "      <td>Chrono Cross OST</td>\n",
       "      <td>The music of Yasunori Misuda is without questi...</td>\n",
       "    </tr>\n",
       "    <tr>\n",
       "      <th>4</th>\n",
       "      <td>5</td>\n",
       "      <td>Too good to be true</td>\n",
       "      <td>Probably the greatest soundtrack in history! U...</td>\n",
       "    </tr>\n",
       "  </tbody>\n",
       "</table>\n",
       "</div>"
      ],
      "text/plain": [
       "   0                                      1                                                  2\n",
       "0  3                     more like funchuck  Gave this to my dad for a gag gift after direc...\n",
       "1  5                              Inspiring  I hope a lot of people hear this cd. We need m...\n",
       "2  5  The best soundtrack ever to anything.  I'm reading a lot of reviews saying that this ...\n",
       "3  4                       Chrono Cross OST  The music of Yasunori Misuda is without questi...\n",
       "4  5                    Too good to be true  Probably the greatest soundtrack in history! U..."
      ]
     },
     "execution_count": 4,
     "metadata": {},
     "output_type": "execute_result"
    }
   ],
   "source": []
  },
  {
   "cell_type": "markdown",
   "metadata": {},
   "source": [
    "## EDA on our Data"
   ]
  },
  {
   "cell_type": "code",
   "execution_count": 12,
   "metadata": {},
   "outputs": [],
   "source": [
    "#creating Counters for each rating and a total_counts to count words that appear in reviews\n",
    "positive_counts = Counter()\n",
    "negative_counts = Counter()\n",
    "\n",
    "total_counts = Counter()\n",
    "\n",
    "for i in range(len(reviews)):\n",
    "    if (labels[i] == 1):\n",
    "        for word in reviews[i]:\n",
    "            positive_counts[word] += 1\n",
    "            total_counts[word] += 1\n",
    "    else:\n",
    "        for word in reviews[i]:\n",
    "            negative_counts[word] += 1\n",
    "            total_counts[word] +=1"
   ]
  },
  {
   "cell_type": "code",
   "execution_count": 13,
   "metadata": {},
   "outputs": [],
   "source": [
    "# Create Counter object to store positive/negative ratios\n",
    "positive_ratios = Counter()\n",
    "negative_ratios = Counter()\n",
    "pos_neg_ratios = Counter()\n",
    "\n",
    "#Calculating the ratios of words for each label against all words\n",
    "for term, cnet in list(total_counts.most_common()):\n",
    "    if (cnet > 100):\n",
    "        negative_ratio = negative_counts[term]/ float(total_counts[term] +1)\n",
    "        posititve_ratio = positive_counts[term]/ float(total_counts[term] +1)\n",
    "        pos_neg_ratio = positive_counts[term]/ float(negative_counts[term] + 1)\n",
    "        \n",
    "        negative_ratios[term] = negative_ratio\n",
    "        positive_ratios[term] = posititve_ratio\n",
    "        pos_neg_ratios[term] = pos_neg_ratio"
   ]
  },
  {
   "cell_type": "code",
   "execution_count": 14,
   "metadata": {},
   "outputs": [
    {
     "data": {
      "text/plain": [
       "<matplotlib.axes._subplots.AxesSubplot at 0x25cd0edbc18>"
      ]
     },
     "execution_count": 14,
     "metadata": {},
     "output_type": "execute_result"
    },
    {
     "data": {
      "image/png": "[encoded data removed]",
      "text/plain": [
       "<Figure size 864x576 with 1 Axes>"
      ]
     },
     "metadata": {
      "needs_background": "light"
     },
     "output_type": "display_data"
    }
   ],
   "source": [
    "# 20 most common words found in positive reviews\n",
    "positive = positive_ratios.most_common()[:20]\n",
    "positive = pd.DataFrame(positive)\n",
    "positive = positive.rename({0:'Words', 1: \"Frequency\"}, axis=1)\n",
    "positive\n",
    "positive.set_index('Words').plot(kind='barh',\n",
    "                           figsize=(12, 8),\n",
    "                           color = 'green',\n",
    "                           title=\"Word Frequency in Positive Reviews\" )\n",
    "# you can see words that are assosiciated with positive reviews are words such as 'mesmerizing','awsome' and so on"
   ]
  },
  {
   "cell_type": "code",
   "execution_count": 15,
   "metadata": {},
   "outputs": [
    {
     "data": {
      "text/plain": [
       "<matplotlib.axes._subplots.AxesSubplot at 0x25cad83a438>"
      ]
     },
     "execution_count": 15,
     "metadata": {},
     "output_type": "execute_result"
    },
    {
     "data": {
      "image/png": "[encoded data removed]",
      "text/plain": [
       "<Figure size 864x576 with 1 Axes>"
      ]
     },
     "metadata": {
      "needs_background": "light"
     },
     "output_type": "display_data"
    }
   ],
   "source": [
    "# Top 20 most common words found in negative reviews\n",
    "negative = negative_ratios.most_common()[:20]\n",
    "negative = pd.DataFrame(negative)\n",
    "negative = negative.rename({0:'Words', 1: \"Frequency\"}, axis=1)\n",
    "negative\n",
    "negative.set_index('Words').plot(kind='barh',\n",
    "                           figsize=(12, 8),\n",
    "                           color = 'red',\n",
    "                           title=\"Word Frequency in Negative Reviews\" )\n",
    "# # you can see words that are assosiciated with negative reviews are words such as 'refund', 'junk' and so on"
   ]
  },
  {
   "cell_type": "code",
   "execution_count": 17,
   "metadata": {},
   "outputs": [
    {
     "data": {
      "text/plain": [
       "397752"
      ]
     },
     "execution_count": 17,
     "metadata": {},
     "output_type": "execute_result"
    }
   ],
   "source": [
    "# finding the number of unique words from all reviews\n",
    "unique_words = set(total_counts)\n",
    "len(unique_words)"
   ]
  },
  {
   "cell_type": "code",
   "execution_count": null,
   "metadata": {},
   "outputs": [],
   "source": [
    "# this step is used to create a list of all words in reviews for later when we create a vocab dictionary to map words to\n",
    "# integers for computer processing\n",
    "joined_reviews = []\n",
    "for review in reviews2:\n",
    "    joined_reviews.append(review)\n",
    "    \n",
    "# makes all reviews into 1 big blob of text    \n",
    "all_text = ' '.join(joined_reviews)\n",
    "# create a list of words\n",
    "words = all_text.split()"
   ]
  },
  {
   "cell_type": "code",
   "execution_count": 20,
   "metadata": {},
   "outputs": [
    {
     "data": {
      "text/plain": [
       "24089650"
      ]
     },
     "execution_count": 20,
     "metadata": {},
     "output_type": "execute_result"
    }
   ],
   "source": [
    "len(words)"
   ]
  },
  {
   "cell_type": "markdown",
   "metadata": {},
   "source": [
    "## Preprocessing the Text reviews Column for Sentiment Analysis"
   ]
  },
  {
   "cell_type": "code",
   "execution_count": 21,
   "metadata": {},
   "outputs": [
    {
     "data": {
      "text/plain": [
       "0         inspiring i hope a lot of people hear this cd ...\n",
       "1         the best soundtrack ever to anything im readin...\n",
       "2         chrono cross ost the music of yasunori misuda ...\n",
       "3         too good to be true probably the greatest soun...\n",
       "4         theres a reason for the price theres a reason ...\n",
       "                                ...                        \n",
       "299995    great last minute review if you need a quick l...\n",
       "299996    contracts my emanuel came right in time to hel...\n",
       "299997    crunch time  contracts this was such a helpful...\n",
       "299998    just okay there is too much in this book to he...\n",
       "299999    law school purchased this for my daughter for ...\n",
       "Name: review, Length: 300000, dtype: object"
      ]
     },
     "execution_count": 21,
     "metadata": {},
     "output_type": "execute_result"
    }
   ],
   "source": [
    "# is in string form not in a list\n",
    "reviews2"
   ]
  },
  {
   "cell_type": "code",
   "execution_count": null,
   "metadata": {},
   "outputs": [],
   "source": [
    "# same as above except in a list, used this one for EDA and will use above for the acutal modelling process\n",
    "reviews"
   ]
  },
  {
   "cell_type": "code",
   "execution_count": 23,
   "metadata": {},
   "outputs": [
    {
     "data": {
      "text/plain": [
       "0         1\n",
       "1         1\n",
       "2         1\n",
       "3         1\n",
       "4         1\n",
       "         ..\n",
       "299995    1\n",
       "299996    1\n",
       "299997    1\n",
       "299998    0\n",
       "299999    1\n",
       "Name: star, Length: 300000, dtype: int64"
      ]
     },
     "execution_count": 23,
     "metadata": {},
     "output_type": "execute_result"
    }
   ],
   "source": [
    "labels"
   ]
  },
  {
   "cell_type": "code",
   "execution_count": 24,
   "metadata": {},
   "outputs": [],
   "source": [
    "# number of words we will keep when running our model\n",
    "num_words = 50000"
   ]
  },
  {
   "cell_type": "code",
   "execution_count": 25,
   "metadata": {},
   "outputs": [],
   "source": [
    "tokenize = Tokenizer(num_words=num_words, # vocab consists of only 50000 most important words\n",
    "               filters='!\"#$%&()*+,-./:;<=>?@[\\]^_`{\"}~\\t\\n', # Regex that will prune off non alphabetical characters\n",
    "               split=\" \")\n",
    "tokenize.fit_on_texts(reviews) # Fit on our training set\n",
    "reviews_seq = tokenize.texts_to_sequences(reviews) # Indexed sequences, putting words into integers\n",
    "reviews_seq_pad = pad_sequences(reviews_seq, maxlen = 200) # making sure length of each review is equal\n",
    "features_encoded = reviews_seq_pad"
   ]
  },
  {
   "cell_type": "code",
   "execution_count": 26,
   "metadata": {},
   "outputs": [
    {
     "data": {
      "text/plain": [
       "300000"
      ]
     },
     "execution_count": 26,
     "metadata": {},
     "output_type": "execute_result"
    }
   ],
   "source": [
    "len(features_encoded)"
   ]
  },
  {
   "cell_type": "code",
   "execution_count": 27,
   "metadata": {},
   "outputs": [
    {
     "name": "stdout",
     "output_type": "stream",
     "text": [
      "[2083, 4, 385, 3, 168, 6, 126, 390, 8, 90, 80, 205, 49, 587, 2, 1076, 12479, 29, 8, 32, 936, 1108, 1274, 28168, 3743, 70, 1300, 9, 38, 1, 8616, 1, 611, 389, 23, 1384, 2, 2468]\n",
      "\n",
      "\n",
      "[    0     0     0     0     0     0     0     0     0     0     0     0\n",
      "     0     0     0     0     0     0     0     0     0     0     0     0\n",
      "     0     0     0     0     0     0     0     0     0     0     0     0\n",
      "     0     0     0     0     0     0     0     0     0     0     0     0\n",
      "     0     0     0     0     0     0     0     0     0     0     0     0\n",
      "     0     0     0     0     0     0     0     0     0     0     0     0\n",
      "     0     0     0     0     0     0     0     0     0     0     0     0\n",
      "     0     0     0     0     0     0     0     0     0     0     0     0\n",
      "     0     0     0     0     0     0     0     0     0     0     0     0\n",
      "     0     0     0     0     0     0     0     0     0     0     0     0\n",
      "     0     0     0     0     0     0     0     0     0     0     0     0\n",
      "     0     0     0     0     0     0     0     0     0     0     0     0\n",
      "     0     0     0     0     0     0     0     0     0     0     0     0\n",
      "     0     0     0     0     0     0  2083     4   385     3   168     6\n",
      "   126   390     8    90    80   205    49   587     2  1076 12479    29\n",
      "     8    32   936  1108  1274 28168  3743    70  1300     9    38     1\n",
      "  8616     1   611   389    23  1384     2  2468]\n"
     ]
    }
   ],
   "source": [
    "print(reviews_seq[0])\n",
    "print('\\n')\n",
    "print(features_encoded[0])"
   ]
  },
  {
   "cell_type": "code",
   "execution_count": 28,
   "metadata": {},
   "outputs": [
    {
     "name": "stdout",
     "output_type": "stream",
     "text": [
      "[1 1 1 ... 1 0 1]\n"
     ]
    },
    {
     "data": {
      "text/plain": [
       "300000"
      ]
     },
     "execution_count": 28,
     "metadata": {},
     "output_type": "execute_result"
    }
   ],
   "source": [
    "labels_encoded = np.array(labels)\n",
    "print(labels_encoded)\n",
    "len(labels_encoded)"
   ]
  },
  {
   "cell_type": "markdown",
   "metadata": {},
   "source": [
    "## Train/Val/Test Split"
   ]
  },
  {
   "cell_type": "code",
   "execution_count": 29,
   "metadata": {},
   "outputs": [
    {
     "name": "stdout",
     "output_type": "stream",
     "text": [
      "\t\t\tFeature Shapes:\n",
      "Train set: \t\t(240000, 200) \n",
      "Validation set: \t(30000, 200) \n",
      "Test set: \t\t(30000, 200)\n",
      "\n",
      "\n",
      "\t\t\tLabels Shapes:\n",
      "Train set:              (240000,) \n",
      "Validation set:         (30000,) \n",
      "Test set:               (30000,)\n"
     ]
    }
   ],
   "source": [
    "split_frac = 0.8\n",
    "\n",
    "## split data into training, validation, and test data for features and labels\n",
    "#splitting 80% training, 20% testing\n",
    "split_idx = int(len(reviews)*0.8)\n",
    "X_train, remaining_x = reviews_seq_pad[:split_idx], reviews_seq_pad[split_idx:]\n",
    "y_train, remaining_y = labels_encoded[:split_idx], labels_encoded[split_idx:]\n",
    "\n",
    "#splitting the remaining 20% testing data into 10% validation and 10% test\n",
    "test_idx = int(len(remaining_x)*0.5)\n",
    "test_idx_y = int(len(remaining_y)*0.5)\n",
    "X_val, X_test = remaining_x[:test_idx], remaining_x[test_idx:]\n",
    "y_val, y_test = remaining_y[:test_idx], remaining_y[test_idx:]\n",
    "\n",
    "## the Shapes of our training/validation/testing data for features and labels\n",
    "print(\"\\t\\t\\tFeature Shapes:\")\n",
    "print(\"Train set: \\t\\t{}\".format(X_train.shape), \n",
    "      \"\\nValidation set: \\t{}\".format(X_val.shape),\n",
    "      \"\\nTest set: \\t\\t{}\".format(X_test.shape))\n",
    "print('\\n')\n",
    "print(\"\\t\\t\\tLabels Shapes:\")\n",
    "print(\"Train set:              {}\".format(y_train.shape), \n",
    "      \"\\nValidation set:         {}\".format(y_val.shape),\n",
    "      \"\\nTest set:               {}\".format(y_test.shape))"
   ]
  },
  {
   "cell_type": "code",
   "execution_count": 30,
   "metadata": {},
   "outputs": [
    {
     "name": "stdout",
     "output_type": "stream",
     "text": [
      "[[    0     0     0 ...  1384     2  2468]\n",
      " [    0     0     0 ...   162   163  2921]\n",
      " [    0     0     0 ...     2   152   241]\n",
      " ...\n",
      " [    0     0     0 ...    18  1287  2030]\n",
      " [    0     0     0 ...    47  2361 10236]\n",
      " [    0     0     0 ...  1050   184  7204]]\n",
      "240000\n"
     ]
    }
   ],
   "source": [
    "print(X_train)\n",
    "print(len(X_train))"
   ]
  },
  {
   "cell_type": "code",
   "execution_count": 31,
   "metadata": {},
   "outputs": [
    {
     "name": "stdout",
     "output_type": "stream",
     "text": [
      "[1 1 1 ... 1 0 0]\n",
      "240000\n"
     ]
    }
   ],
   "source": [
    "print(y_train)\n",
    "print(len(y_train))"
   ]
  },
  {
   "cell_type": "markdown",
   "metadata": {},
   "source": [
    "## DataLoaders and Batching \n",
    "using it to feed my data 100 reviews at a time"
   ]
  },
  {
   "cell_type": "code",
   "execution_count": 32,
   "metadata": {},
   "outputs": [],
   "source": [
    "import torch\n",
    "from torch.utils.data import TensorDataset, DataLoader\n",
    "\n",
    "# making into Tensor datasets\n",
    "train_data = TensorDataset(torch.from_numpy(X_train), torch.from_numpy(y_train))\n",
    "valid_data = TensorDataset(torch.from_numpy(X_val), torch.from_numpy(y_val))\n",
    "test_data = TensorDataset(torch.from_numpy(X_test), torch.from_numpy(y_test))\n",
    "\n",
    "# dataloaders, this is how many reviews we will be passing into our model at a time\n",
    "batch_size = 200\n",
    "\n",
    "train_loader = DataLoader(train_data, shuffle=True, batch_size=batch_size)\n",
    "valid_loader = DataLoader(valid_data, shuffle=True, batch_size=batch_size)\n",
    "test_loader = DataLoader(test_data, shuffle=True, batch_size=batch_size)"
   ]
  },
  {
   "cell_type": "code",
   "execution_count": 33,
   "metadata": {},
   "outputs": [
    {
     "name": "stdout",
     "output_type": "stream",
     "text": [
      "1200\n"
     ]
    }
   ],
   "source": [
    "# so we can see how many steps for each epoch\n",
    "counter = 0\n",
    "for inputs, labels in train_loader:\n",
    "        counter += 1\n",
    "print(counter)"
   ]
  },
  {
   "cell_type": "code",
   "execution_count": 34,
   "metadata": {},
   "outputs": [
    {
     "name": "stdout",
     "output_type": "stream",
     "text": [
      "Sample input size:  torch.Size([200, 200])\n",
      "Sample input: \n",
      " tensor([[   0,    0,    0,  ...,   10,  171,  341],\n",
      "        [   0,    0,    0,  ...,  238,    6,   76],\n",
      "        [   0,    0,    0,  ...,    8, 1471, 1042],\n",
      "        ...,\n",
      "        [   0,    0,    0,  ...,   27, 1211,   90],\n",
      "        [   0,    0,    0,  ...,    4,  115,   76],\n",
      "        [   0,    0,    0,  ...,    9, 1735,  279]], dtype=torch.int32)\n",
      "\n",
      "Sample label size:  torch.Size([200])\n",
      "Sample label: \n",
      " tensor([1, 0, 0, 1, 0, 1, 1, 0, 1, 1, 1, 1, 1, 1, 1, 1, 1, 1, 0, 0, 0, 1, 1, 0,\n",
      "        0, 0, 0, 0, 0, 0, 1, 0, 0, 0, 1, 1, 0, 1, 1, 0, 0, 0, 1, 0, 0, 0, 1, 0,\n",
      "        1, 0, 0, 1, 1, 0, 0, 0, 1, 1, 1, 1, 0, 0, 1, 0, 0, 1, 0, 0, 1, 0, 0, 0,\n",
      "        1, 1, 0, 1, 1, 1, 1, 0, 0, 0, 1, 0, 1, 1, 1, 1, 0, 1, 1, 0, 1, 0, 1, 1,\n",
      "        1, 0, 1, 1, 1, 0, 1, 0, 0, 0, 0, 1, 0, 1, 0, 1, 1, 0, 1, 1, 0, 1, 0, 0,\n",
      "        1, 0, 1, 1, 1, 0, 0, 1, 1, 1, 1, 0, 1, 0, 0, 1, 1, 0, 1, 1, 0, 0, 0, 0,\n",
      "        1, 0, 1, 1, 1, 0, 0, 1, 0, 0, 1, 1, 0, 0, 1, 1, 0, 0, 0, 0, 0, 1, 0, 0,\n",
      "        1, 0, 0, 0, 1, 0, 0, 0, 1, 0, 1, 0, 1, 1, 1, 0, 1, 1, 1, 0, 1, 0, 1, 1,\n",
      "        1, 1, 0, 1, 0, 1, 0, 0])\n"
     ]
    }
   ],
   "source": [
    "\n",
    "dataiter = iter(train_loader)\n",
    "sample_x, sample_y = dataiter.next()\n",
    "\n",
    "print('Sample input size: ', sample_x.size()) # batch_size, seq_length\n",
    "print('Sample input: \\n', sample_x)\n",
    "print()\n",
    "print('Sample label size: ', sample_y.size()) # batch_size\n",
    "print('Sample label: \\n', sample_y)\n",
    "# telling us we are taking 200 batches of reviews at a time and they contain 200 values each one representing either\n",
    "# a 0 which is padding or an integer that maps to a word"
   ]
  },
  {
   "cell_type": "code",
   "execution_count": 35,
   "metadata": {},
   "outputs": [
    {
     "name": "stdout",
     "output_type": "stream",
     "text": [
      "No GPU available, training on CPU.\n"
     ]
    }
   ],
   "source": [
    "train_on_gpu=torch.cuda.is_available()\n",
    "\n",
    "if(train_on_gpu):\n",
    "    print('Training on GPU.')\n",
    "else:\n",
    "    print('No GPU available, training on CPU.')"
   ]
  },
  {
   "cell_type": "code",
   "execution_count": 36,
   "metadata": {},
   "outputs": [],
   "source": [
    "import torch.nn as nn\n",
    "\n",
    "class SentimentRNN(nn.Module):\n",
    "    \"\"\"\n",
    "    The RNN model that will be used to perform Sentiment analysis.\n",
    "    \"\"\"\n",
    "\n",
    "    def __init__(self, vocab_size, output_size, embedding_dim, hidden_dim, n_layers, drop_prob=0.5):\n",
    "        \"\"\"\n",
    "        Initialize the model by setting up the layers.\n",
    "        \"\"\"\n",
    "        super(SentimentRNN, self).__init__()\n",
    "\n",
    "        self.output_size = output_size\n",
    "        self.n_layers = n_layers\n",
    "        self.hidden_dim = hidden_dim\n",
    "        \n",
    "        # embedding and LSTM layers\n",
    "        self.embedding = nn.Embedding(vocab_size, embedding_dim)\n",
    "        self.lstm = nn.LSTM(embedding_dim, hidden_dim, n_layers, \n",
    "                            dropout=drop_prob, batch_first=True)\n",
    "        \n",
    "        # dropout layer\n",
    "        self.dropout = nn.Dropout(0.3)\n",
    "        \n",
    "        # linear and sigmoid layers\n",
    "        self.fc = nn.Linear(hidden_dim, output_size)\n",
    "        self.sig = nn.Sigmoid()\n",
    "        \n",
    "\n",
    "    def forward(self, x, hidden):\n",
    "        \"\"\"\n",
    "        Perform a forward pass of our model on some input and hidden state.\n",
    "        \"\"\"\n",
    "        batch_size = x.size(0)\n",
    "\n",
    "        # embeddings and lstm_out\n",
    "        x = x.long()\n",
    "        embeds = self.embedding(x)\n",
    "        lstm_out, hidden = self.lstm(embeds, hidden)\n",
    "    \n",
    "        # stack up lstm outputs\n",
    "        lstm_out = lstm_out.contiguous().view(-1, self.hidden_dim)\n",
    "        \n",
    "        # dropout and fully-connected layer\n",
    "        out = self.dropout(lstm_out)\n",
    "        out = self.fc(out)\n",
    "        # sigmoid function\n",
    "        sig_out = self.sig(out)\n",
    "        \n",
    "        # reshape to be batch_size first\n",
    "        sig_out = sig_out.view(batch_size, -1)\n",
    "        sig_out = sig_out[:, -1] # get last batch of labels\n",
    "        \n",
    "        # return last sigmoid output and hidden state\n",
    "        return sig_out, hidden\n",
    "    \n",
    "    \n",
    "    def init_hidden(self, batch_size):\n",
    "        ''' Initializes hidden state '''\n",
    "        # Create two new tensors with sizes n_layers x batch_size x hidden_dim,\n",
    "        # initialized to zero, for hidden state and cell state of LSTM\n",
    "        weight = next(self.parameters()).data\n",
    "        \n",
    "        if (train_on_gpu):\n",
    "            hidden = (weight.new(self.n_layers, batch_size, self.hidden_dim).zero_().cuda(),\n",
    "                  weight.new(self.n_layers, batch_size, self.hidden_dim).zero_().cuda())\n",
    "        else:\n",
    "            hidden = (weight.new(self.n_layers, batch_size, self.hidden_dim).zero_(),\n",
    "                      weight.new(self.n_layers, batch_size, self.hidden_dim).zero_())\n",
    "        \n",
    "        return hidden"
   ]
  },
  {
   "cell_type": "code",
   "execution_count": 38,
   "metadata": {},
   "outputs": [
    {
     "name": "stdout",
     "output_type": "stream",
     "text": [
      "SentimentRNN(\n",
      "  (embedding): Embedding(50001, 400)\n",
      "  (lstm): LSTM(400, 256, num_layers=2, batch_first=True, dropout=0.5)\n",
      "  (dropout): Dropout(p=0.3, inplace=False)\n",
      "  (fc): Linear(in_features=256, out_features=1, bias=True)\n",
      "  (sig): Sigmoid()\n",
      ")\n"
     ]
    }
   ],
   "source": [
    "vocab_size = num_words +1 # +1 for the 0 padding + our word tokens\n",
    "output_size = 1 # will be either 1 for positive and 0 for negative\n",
    "embedding_dim = 400\n",
    "hidden_dim = 256\n",
    "n_layers = 2\n",
    "\n",
    "net = SentimentRNN(vocab_size, output_size, embedding_dim, hidden_dim, n_layers)\n",
    "\n",
    "print(net)"
   ]
  },
  {
   "cell_type": "markdown",
   "metadata": {},
   "source": [
    "Training the model with Binary-Cross Entropy as our outcome is either 1, for positive reviews or 0 for negative reviews, we will be using a learning rate of 0.01 to ensure that the model takes small steps towards optimizing the accuracy of our model"
   ]
  },
  {
   "cell_type": "code",
   "execution_count": 39,
   "metadata": {},
   "outputs": [],
   "source": [
    "lr = 0.01\n",
    "criterion = nn.BCELoss() # Binary-cross entropy loss\n",
    "optimizer = torch.optim.Adam(net.parameters(), lr=lr) # using an adam optimizer"
   ]
  },
  {
   "cell_type": "markdown",
   "metadata": {},
   "source": [
    "### Training our Model"
   ]
  },
  {
   "cell_type": "code",
   "execution_count": 40,
   "metadata": {},
   "outputs": [],
   "source": [
    "# # training params\n",
    "\n",
    "# epochs = 2 \n",
    "# counter = 0\n",
    "# print_every = 100\n",
    "# clip=5 # gradient clipping so gradient doesnt explode\n",
    "\n",
    "# # move model to GPU, if available\n",
    "# if(train_on_gpu):\n",
    "#     net.cuda()\n",
    "\n",
    "# net.train()\n",
    "# # train for some number of epochs\n",
    "# for e in range(epochs):\n",
    "#     # initialize hidden state\n",
    "#     h = net.init_hidden(batch_size)\n",
    "\n",
    "#     # batch loop\n",
    "#     for inputs, labels in train_loader:\n",
    "#         counter += 1\n",
    "\n",
    "#         if(train_on_gpu):\n",
    "#             inputs, labels = inputs.cuda(), labels.cuda()\n",
    "\n",
    "#         # Creating new variables for the hidden state, otherwise\n",
    "#         # we'd backprop through the entire training history\n",
    "#         h = tuple([each.data for each in h])\n",
    "\n",
    "#         # zero accumulated gradients\n",
    "#         net.zero_grad()\n",
    "\n",
    "#         # get the output from the model\n",
    "#         output, h = net(inputs, h)\n",
    "\n",
    "#         # calculate the loss and perform backprop\n",
    "#         loss = criterion(output.squeeze(), labels.float())\n",
    "#         loss.backward()\n",
    "#         # `clip_grad_norm` helps prevent the exploding gradient problem in RNNs / LSTMs.\n",
    "#         nn.utils.clip_grad_norm_(net.parameters(), clip)\n",
    "#         optimizer.step()\n",
    "\n",
    "#         # loss stats\n",
    "#         if counter % print_every == 0:\n",
    "#             # Get validation loss\n",
    "#             val_h = net.init_hidden(batch_size)\n",
    "#             val_losses = []\n",
    "#             net.eval()\n",
    "#             for inputs, labels in valid_loader:\n",
    "\n",
    "#                 # Creating new variables for the hidden state, otherwise\n",
    "#                 # we'd backprop through the entire training history\n",
    "#                 val_h = tuple([each.data for each in val_h])\n",
    "\n",
    "#                 if(train_on_gpu):\n",
    "#                     inputs, labels = inputs.cuda(), labels.cuda()\n",
    "\n",
    "#                 output, val_h = net(inputs, val_h)\n",
    "#                 val_loss = criterion(output.squeeze(), labels.float())\n",
    "\n",
    "#                 val_losses.append(val_loss.item())\n",
    "\n",
    "#             net.train()\n",
    "#             print(\"Epoch: {}/{}...\".format(e+1, epochs),\n",
    "#                   \"Step: {}...\".format(counter),\n",
    "#                   \"Loss: {:.6f}...\".format(loss.item()),\n",
    "#                   \"Val Loss: {:.6f}\".format(np.mean(val_losses)))\n"
   ]
  },
  {
   "cell_type": "markdown",
   "metadata": {},
   "source": [
    "## Testing our Model on testing dataset"
   ]
  },
  {
   "cell_type": "code",
   "execution_count": 41,
   "metadata": {},
   "outputs": [],
   "source": [
    "# # Get test data loss and accuracy\n",
    "\n",
    "# test_losses = [] # track loss\n",
    "# num_correct = 0\n",
    "\n",
    "# # init hidden state\n",
    "# h = net.init_hidden(batch_size)\n",
    "\n",
    "# net.eval()\n",
    "# # iterate over test data\n",
    "# for inputs, labels in test_loader:\n",
    "\n",
    "#     # Creating new variables for the hidden state, otherwise\n",
    "#     # we'd backprop through the entire training history\n",
    "#     h = tuple([each.data for each in h])\n",
    "\n",
    "#     if(train_on_gpu):\n",
    "#         inputs, labels = inputs.cuda(), labels.cuda()\n",
    "    \n",
    "#     # get predicted outputs\n",
    "#     output, h = net(inputs, h)\n",
    "    \n",
    "#     # calculate loss\n",
    "#     test_loss = criterion(output.squeeze(), labels.float())\n",
    "#     test_losses.append(test_loss.item())\n",
    "    \n",
    "#     # convert output probabilities to predicted class (0 or 1)\n",
    "#     pred = torch.round(output.squeeze())  # rounds to the nearest integer\n",
    "    \n",
    "#     # compare predictions to true label\n",
    "#     correct_tensor = pred.eq(labels.float().view_as(pred))\n",
    "#     correct = np.squeeze(correct_tensor.numpy()) if not train_on_gpu else np.squeeze(correct_tensor.cpu().numpy())\n",
    "#     num_correct += np.sum(correct)\n",
    "\n",
    "\n",
    "# # -- stats -- ##\n",
    "# # avg test loss\n",
    "# print(\"Test loss: {:.3f}\".format(np.mean(test_losses)))\n",
    "\n",
    "# # accuracy over all test data\n",
    "# test_acc = num_correct/len(test_loader.dataset)\n",
    "# print(\"Test accuracy: {:.3f}\".format(test_acc))"
   ]
  },
  {
   "cell_type": "markdown",
   "metadata": {},
   "source": [
    "### Actually Testing our model with completly new fed text"
   ]
  },
  {
   "cell_type": "code",
   "execution_count": 42,
   "metadata": {},
   "outputs": [],
   "source": [
    "#saving our model parameters\n",
    "# torch.save(net.state_dict(), 'model2-300k.pth')"
   ]
  },
  {
   "cell_type": "code",
   "execution_count": 43,
   "metadata": {},
   "outputs": [
    {
     "name": "stdout",
     "output_type": "stream",
     "text": [
      "Our model: \n",
      "\n",
      " SentimentRNN(\n",
      "  (embedding): Embedding(50001, 400)\n",
      "  (lstm): LSTM(400, 256, num_layers=2, batch_first=True, dropout=0.5)\n",
      "  (dropout): Dropout(p=0.3, inplace=False)\n",
      "  (fc): Linear(in_features=256, out_features=1, bias=True)\n",
      "  (sig): Sigmoid()\n",
      ") \n",
      "\n",
      "The state dict keys: \n",
      "\n",
      " odict_keys(['embedding.weight', 'lstm.weight_ih_l0', 'lstm.weight_hh_l0', 'lstm.bias_ih_l0', 'lstm.bias_hh_l0', 'lstm.weight_ih_l1', 'lstm.weight_hh_l1', 'lstm.bias_ih_l1', 'lstm.bias_hh_l1', 'fc.weight', 'fc.bias'])\n"
     ]
    }
   ],
   "source": [
    "\n",
    "print(\"Our model: \\n\\n\", net, '\\n')\n",
    "print(\"The state dict keys: \\n\\n\", net.state_dict().keys())\n"
   ]
  },
  {
   "cell_type": "code",
   "execution_count": 44,
   "metadata": {},
   "outputs": [
    {
     "name": "stdout",
     "output_type": "stream",
     "text": [
      "odict_keys(['embedding.weight', 'lstm.weight_ih_l0', 'lstm.weight_hh_l0', 'lstm.bias_ih_l0', 'lstm.bias_hh_l0', 'lstm.weight_ih_l1', 'lstm.weight_hh_l1', 'lstm.bias_ih_l1', 'lstm.bias_hh_l1', 'fc.weight', 'fc.bias'])\n"
     ]
    }
   ],
   "source": [
    "#loading our model in\n",
    "state_dict = torch.load('model2-300k.pth')\n",
    "print(state_dict.keys())"
   ]
  },
  {
   "cell_type": "code",
   "execution_count": 45,
   "metadata": {},
   "outputs": [
    {
     "data": {
      "text/plain": [
       "<All keys matched successfully>"
      ]
     },
     "execution_count": 45,
     "metadata": {},
     "output_type": "execute_result"
    }
   ],
   "source": [
    "net.load_state_dict(state_dict)"
   ]
  },
  {
   "cell_type": "code",
   "execution_count": 47,
   "metadata": {},
   "outputs": [],
   "source": [
    "top_words = total_counts.most_common()\n",
    "\n",
    "words[0][0]\n",
    "words = []\n",
    "for word in top_words:\n",
    "    words.append(word[0])\n",
    "vocab2index = {word: ii for ii, word in enumerate(words, 1)}"
   ]
  },
  {
   "cell_type": "code",
   "execution_count": 48,
   "metadata": {
    "scrolled": true
   },
   "outputs": [],
   "source": [
    "from string import punctuation\n",
    "#Tokenize Function\n",
    "def tokenize_review(test_review):\n",
    "    test_review = test_review.lower() # lowercase\n",
    "    # get rid of punctuation\n",
    "    test_text = ''.join([c for c in test_review if c not in punctuation])\n",
    "\n",
    "    # splitting\n",
    "    test_words = test_text.split()\n",
    "\n",
    "    # Tokenize and indexing\n",
    "    test_ints = [] \n",
    "    test_ints.append([vocab2index[word] if word in list(vocab2index.keys()) else 0 for word in test_words])   \n",
    "    \n",
    "    return test_ints\n",
    "\n",
    "\n",
    "# Predict Functions\n",
    "def predict(net, test_review, sequence_length=200):\n",
    "    \n",
    "    net.eval()\n",
    "    \n",
    "    # tokenize review\n",
    "    test_ints = tokenize_review(test_review)\n",
    "    \n",
    "    # pad tokenized sequence\n",
    "    seq_length=sequence_length\n",
    "    features = pad_sequences(test_ints, seq_length)\n",
    "    \n",
    "    # convert to tensor to pass into model\n",
    "    feature_tensor = torch.from_numpy(features)\n",
    "    \n",
    "    batch_size = feature_tensor.size(0)\n",
    "    \n",
    "    # initialize hidden state\n",
    "    h = net.init_hidden(batch_size)\n",
    "    \n",
    "    if(train_on_gpu):\n",
    "        feature_tensor = feature_tensor.cuda()\n",
    "    \n",
    "    # get the output from the model\n",
    "    output, h = net(feature_tensor, h)\n",
    "    \n",
    "    # converting output probabilities to predicted class (0 or 1)\n",
    "    pred = torch.round(output.squeeze()) \n",
    "    # printing output value, before rounding to see strength of prediction \n",
    "    print('Prediction value, pre-rounding: {:.6f}'.format(output.item()))\n",
    "    \n",
    "    # print custom response\n",
    "    if(pred.item()==1):\n",
    "        print(\"Positive review detected!\")\n",
    "    else:\n",
    "        print(\"Negative review detected.\")\n",
    "        "
   ]
  },
  {
   "cell_type": "code",
   "execution_count": 49,
   "metadata": {},
   "outputs": [],
   "source": [
    "test_review = 'I though the movie was great, but I didnt lik Nick Cage as ghost rider'"
   ]
  },
  {
   "cell_type": "code",
   "execution_count": 50,
   "metadata": {},
   "outputs": [
    {
     "name": "stdout",
     "output_type": "stream",
     "text": [
      "Prediction value, pre-rounding: 0.647561\n",
      "Positive review detected!\n"
     ]
    }
   ],
   "source": [
    "seq_length=200\n",
    "\n",
    "predict(net, test_review, seq_length)"
   ]
  },
  {
   "cell_type": "markdown",
   "metadata": {},
   "source": [
    "# <h1><center>__<font color=blue>User Experience! </font>__ </center></h1>\n",
    "![sentiment](img/sentiment.png)\n",
    "<!-- <font color=blue|red|green|pink|yellow>Text</font> -->\n",
    "#####  <h1><center><font color = black>input a test review of any length between the <font color = red>two red</font> Apostrophe</font></center></h1>\n",
    "#####  <h1><center><font color = black>tell me what sentiment you think that your review be?(is it <font color = blue>positive</font> or <font color = red>negative?</font>)</font></center></h1>"
   ]
  },
  {
   "cell_type": "code",
   "execution_count": null,
   "metadata": {},
   "outputs": [],
   "source": [
    "review = input('Your Review:')\n",
    "predict(net, review, seq_length)"
   ]
  }
 ],
 "metadata": {
  "kernelspec": {
   "display_name": "learn-env",
   "language": "python",
   "name": "learn-env"
  },
  "language_info": {
   "codemirror_mode": {
    "name": "ipython",
    "version": 3
   },
   "file_extension": ".py",
   "mimetype": "text/x-python",
   "name": "python",
   "nbconvert_exporter": "python",
   "pygments_lexer": "ipython3",
   "version": "3.6.10"
  }
 },
 "nbformat": 4,
 "nbformat_minor": 4
}
